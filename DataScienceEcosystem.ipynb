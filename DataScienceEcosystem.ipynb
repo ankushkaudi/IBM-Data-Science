{
 "cells": [
  {
   "cell_type": "markdown",
   "id": "f9b1cda1-c3b9-405f-85c1-3f73c9afcfff",
   "metadata": {},
   "source": [
    "# Data Science Tools and Ecosystem"
   ]
  },
  {
   "cell_type": "markdown",
   "id": "a4aefd04-66ab-4958-88b7-71264b162600",
   "metadata": {},
   "source": [
    "In this notebook, Data Science Tools and Ecosystem are summarized"
   ]
  },
  {
   "cell_type": "markdown",
   "id": "878b686f-c360-40b9-ba4d-8955f53aadfb",
   "metadata": {},
   "source": [
    "Some of the popular languages that Data Scientists use are:\n",
    "1. Python\n",
    "2. R\n",
    "3. C++\n",
    "4. SQL\n",
    "5. Matlab\n",
    "6. Java"
   ]
  },
  {
   "cell_type": "markdown",
   "id": "0b808c4e-0384-4c5f-8acf-15045602106d",
   "metadata": {},
   "source": [
    "Some of the commonly used libraries used by Data Scientists include:\n",
    "1. Pandas\n",
    "2. NumPy\n",
    "3. Scikit-Learn\n",
    "4. Matloblib\n",
    "5. Keras\n",
    "6. TensorFlow\n",
    "7. Pytourch\n",
    "8. SciPy"
   ]
  },
  {
   "cell_type": "markdown",
   "id": "01d9315b-beb1-4648-8201-37d33f5a74e5",
   "metadata": {},
   "source": [
    "# Data Science Tools\n",
    "- SAS\n",
    "- Apache Hadoop\n",
    "- TenserFlow"
   ]
  },
  {
   "cell_type": "code",
   "execution_count": null,
   "id": "cfab6fa2-9d4d-4a02-ad5b-b3d8650991d8",
   "metadata": {},
   "outputs": [],
   "source": [
    "**Below are few examples of evaluating arithmetic expressions**"
   ]
  }
 ],
 "metadata": {
  "kernelspec": {
   "display_name": "Python",
   "language": "python",
   "name": "conda-env-python-py"
  },
  "language_info": {
   "codemirror_mode": {
    "name": "ipython",
    "version": 3
   },
   "file_extension": ".py",
   "mimetype": "text/x-python",
   "name": "python",
   "nbconvert_exporter": "python",
   "pygments_lexer": "ipython3",
   "version": "3.7.12"
  }
 },
 "nbformat": 4,
 "nbformat_minor": 5
}
